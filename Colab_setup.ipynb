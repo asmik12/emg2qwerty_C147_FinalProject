{
  "cells": [
    {
      "cell_type": "markdown",
      "metadata": {
        "id": "IvxJOJu4XUIW"
      },
      "source": [
        "### Step 1: Mount the Google Drive\n",
        "\n",
        "Remember to use GPU runtime before mounting your Google Drive. (Runtime --> Change runtime type)."
      ]
    },
    {
      "cell_type": "code",
      "execution_count": null,
      "metadata": {
        "id": "SCSU4HrvkVDq"
      },
      "outputs": [],
      "source": [
        "from google.colab import drive\n",
        "drive.mount('/content/drive')"
      ]
    },
    {
      "cell_type": "markdown",
      "metadata": {
        "id": "FyoSL1U8Xbjh"
      },
      "source": [
        "### Step 2: Open the project directory\n",
        "\n",
        "Replace `Your_Dir` with your own path."
      ]
    },
    {
      "cell_type": "code",
      "execution_count": 2,
      "metadata": {
        "id": "-gfQ17SmkfOK"
      },
      "outputs": [
        {
          "name": "stdout",
          "output_type": "stream",
          "text": [
            "c:\\Users\\asmi_\\Asmi's Documents\\Academics\\2022-26_UCLA\\2024-25_Junior Year\\W25 - ECE C147\\New folder\\emg2qwerty_C147_FinalProject\\emg2qwerty\n"
          ]
        }
      ],
      "source": [
        "cd emg2qwerty"
      ]
    },
    {
      "cell_type": "markdown",
      "metadata": {
        "id": "eTzYfAOEYN4C"
      },
      "source": [
        "### Step 3: Install required packages\n",
        "\n",
        "After installing them, Colab will require you to restart the session."
      ]
    },
    {
      "cell_type": "code",
      "execution_count": null,
      "metadata": {
        "id": "HFFKvhs4tAp5"
      },
      "outputs": [],
      "source": [
        "!pip install -r requirements.txt"
      ]
    },
    {
      "cell_type": "markdown",
      "metadata": {
        "id": "nSoRzGXCfUtz"
      },
      "source": [
        "### Step 4: Start your experiments!\n",
        "\n",
        "- Remember to download and copy the dataset to this directory: `Your_Dir/emg2qwerty/data`.\n",
        "- You may now start your experiments with any scripts! Below are examples of single-user training and testing (greedy decoding).\n",
        "- **There are two ways to track the logs:**\n",
        "  - 1. Keep `--multirun`, and the logs will not be printed here, but they will be saved in the folder `logs`, e.g., `logs/2025-02-09/18-24-15/submitit_logs/`.\n",
        "  - 2. Comment out `--multirun` and the logs will be printed in this notebook, but they will not be saved."
      ]
    },
    {
      "cell_type": "markdown",
      "metadata": {
        "id": "IVuSn4rXhLJa"
      },
      "source": [
        "#### Training\n",
        "\n",
        "- The checkpoints are saved in the folder `logs`, e.g., `logs/2025-02-09/18-24-15/checkpoints/`."
      ]
    },
    {
      "cell_type": "code",
      "execution_count": 6,
      "metadata": {
        "id": "n84M6KLmkp2i"
      },
      "outputs": [
        {
          "name": "stdout",
          "output_type": "stream",
          "text": [
            "[2025-03-03 16:53:09,929][HYDRA] Submitit 'local' sweep output dir : logs/2025-03-03/16-53-09\n",
            "[2025-03-03 16:53:09,931][HYDRA] \t#0 : user=single_user trainer.accelerator=cpu trainer.devices=1\n"
          ]
        },
        {
          "name": "stderr",
          "output_type": "stream",
          "text": [
            "Traceback (most recent call last):\n",
            "  File \"c:\\Users\\asmi_\\Asmi's Documents\\Academics\\2022-26_UCLA\\2024-25_Junior Year\\W25 - ECE C147\\New folder\\emg2qwerty_C147_FinalProject\\venv\\Lib\\site-packages\\submitit\\local\\local.py\", line 366, in run\n",
            "    self.start_tasks()\n",
            "  File \"c:\\Users\\asmi_\\Asmi's Documents\\Academics\\2022-26_UCLA\\2024-25_Junior Year\\W25 - ECE C147\\New folder\\emg2qwerty_C147_FinalProject\\venv\\Lib\\site-packages\\submitit\\local\\local.py\", line 303, in start_tasks\n",
            "    self.stdouts = [p.stdout.open(\"a\") for p in paths]\n",
            "                   ^^^^^^^^^^^^^^^^^^^^^^^^^^^^^^^^^^^\n",
            "  File \"c:\\Users\\asmi_\\Asmi's Documents\\Academics\\2022-26_UCLA\\2024-25_Junior Year\\W25 - ECE C147\\New folder\\emg2qwerty_C147_FinalProject\\venv\\Lib\\site-packages\\submitit\\local\\local.py\", line 303, in <listcomp>\n",
            "    self.stdouts = [p.stdout.open(\"a\") for p in paths]\n",
            "                    ^^^^^^^^^^^^^^^^^^\n",
            "  File \"C:\\Program Files\\WindowsApps\\PythonSoftwareFoundation.Python.3.11_3.11.2544.0_x64__qbz5n2kfra8p0\\Lib\\pathlib.py\", line 1044, in open\n",
            "    return io.open(self, mode, buffering, encoding, errors, newline)\n",
            "           ^^^^^^^^^^^^^^^^^^^^^^^^^^^^^^^^^^^^^^^^^^^^^^^^^^^^^^^^^\n",
            "FileNotFoundError: [Errno 2] No such file or directory: \"c:\\\\Users\\\\asmi_\\\\Asmi's Documents\\\\Academics\\\\2022-26_UCLA\\\\2024-25_Junior Year\\\\W25 - ECE C147\\\\New folder\\\\emg2qwerty_C147_FinalProject\\\\emg2qwerty\\\\logs\\\\2025-03-03\\\\16-53-09\\\\submitit_logs\\\\158376\\\\158376_0_log.out\"\n",
            "\n",
            "During handling of the above exception, another exception occurred:\n",
            "\n",
            "Traceback (most recent call last):\n",
            "  File \"<frozen runpy>\", line 198, in _run_module_as_main\n",
            "  File \"<frozen runpy>\", line 88, in _run_code\n",
            "  File \"c:\\Users\\asmi_\\Asmi's Documents\\Academics\\2022-26_UCLA\\2024-25_Junior Year\\W25 - ECE C147\\New folder\\emg2qwerty_C147_FinalProject\\venv\\Lib\\site-packages\\submitit\\local\\_local.py\", line 16, in <module>\n",
            "    controller.run()\n",
            "  File \"c:\\Users\\asmi_\\Asmi's Documents\\Academics\\2022-26_UCLA\\2024-25_Junior Year\\W25 - ECE C147\\New folder\\emg2qwerty_C147_FinalProject\\venv\\Lib\\site-packages\\submitit\\local\\local.py\", line 372, in run\n",
            "    self.kill_tasks()\n",
            "  File \"c:\\Users\\asmi_\\Asmi's Documents\\Academics\\2022-26_UCLA\\2024-25_Junior Year\\W25 - ECE C147\\New folder\\emg2qwerty_C147_FinalProject\\venv\\Lib\\site-packages\\submitit\\local\\local.py\", line 323, in kill_tasks\n",
            "    for sig in [signal.SIGINT, signal.SIGKILL]:\n",
            "                               ^^^^^^^^^^^^^^\n",
            "AttributeError: module 'signal' has no attribute 'SIGKILL'. Did you mean: 'SIGILL'?\n",
            "Traceback (most recent call last):\n",
            "  File \"c:\\Users\\asmi_\\Asmi's Documents\\Academics\\2022-26_UCLA\\2024-25_Junior Year\\W25 - ECE C147\\New folder\\emg2qwerty_C147_FinalProject\\venv\\Lib\\site-packages\\hydra\\_internal\\utils.py\", line 220, in run_and_report\n",
            "    return func()\n",
            "           ^^^^^^\n",
            "  File \"c:\\Users\\asmi_\\Asmi's Documents\\Academics\\2022-26_UCLA\\2024-25_Junior Year\\W25 - ECE C147\\New folder\\emg2qwerty_C147_FinalProject\\venv\\Lib\\site-packages\\hydra\\_internal\\utils.py\", line 466, in <lambda>\n",
            "    lambda: hydra.multirun(\n",
            "            ^^^^^^^^^^^^^^^\n",
            "  File \"c:\\Users\\asmi_\\Asmi's Documents\\Academics\\2022-26_UCLA\\2024-25_Junior Year\\W25 - ECE C147\\New folder\\emg2qwerty_C147_FinalProject\\venv\\Lib\\site-packages\\hydra\\_internal\\hydra.py\", line 162, in multirun\n",
            "    ret = sweeper.sweep(arguments=task_overrides)\n",
            "          ^^^^^^^^^^^^^^^^^^^^^^^^^^^^^^^^^^^^^^^\n",
            "  File \"c:\\Users\\asmi_\\Asmi's Documents\\Academics\\2022-26_UCLA\\2024-25_Junior Year\\W25 - ECE C147\\New folder\\emg2qwerty_C147_FinalProject\\venv\\Lib\\site-packages\\hydra\\_internal\\core_plugins\\basic_sweeper.py\", line 177, in sweep\n",
            "    results = self.launcher.launch(batch, initial_job_idx=initial_job_idx)\n",
            "              ^^^^^^^^^^^^^^^^^^^^^^^^^^^^^^^^^^^^^^^^^^^^^^^^^^^^^^^^^^^^\n",
            "  File \"c:\\Users\\asmi_\\Asmi's Documents\\Academics\\2022-26_UCLA\\2024-25_Junior Year\\W25 - ECE C147\\New folder\\emg2qwerty_C147_FinalProject\\venv\\Lib\\site-packages\\hydra_plugins\\hydra_submitit_launcher\\submitit_launcher.py\", line 146, in launch\n",
            "    return [j.results()[0] for j in jobs]\n",
            "           ^^^^^^^^^^^^^^^^^^^^^^^^^^^^^^\n",
            "  File \"c:\\Users\\asmi_\\Asmi's Documents\\Academics\\2022-26_UCLA\\2024-25_Junior Year\\W25 - ECE C147\\New folder\\emg2qwerty_C147_FinalProject\\venv\\Lib\\site-packages\\hydra_plugins\\hydra_submitit_launcher\\submitit_launcher.py\", line 146, in <listcomp>\n",
            "    return [j.results()[0] for j in jobs]\n",
            "            ^^^^^^^^^^^\n",
            "  File \"c:\\Users\\asmi_\\Asmi's Documents\\Academics\\2022-26_UCLA\\2024-25_Junior Year\\W25 - ECE C147\\New folder\\emg2qwerty_C147_FinalProject\\venv\\Lib\\site-packages\\submitit\\core\\core.py\", line 289, in results\n",
            "    outcome, result = self._get_outcome_and_result()\n",
            "                      ^^^^^^^^^^^^^^^^^^^^^^^^^^^^^^\n",
            "  File \"c:\\Users\\asmi_\\Asmi's Documents\\Academics\\2022-26_UCLA\\2024-25_Junior Year\\W25 - ECE C147\\New folder\\emg2qwerty_C147_FinalProject\\venv\\Lib\\site-packages\\submitit\\core\\core.py\", line 384, in _get_outcome_and_result\n",
            "    raise utils.UncompletedJobError(\"\\n\".join(message))\n",
            "submitit.core.utils.UncompletedJobError: Job 345652 (task: 0) with path c:\\Users\\asmi_\\Asmi's Documents\\Academics\\2022-26_UCLA\\2024-25_Junior Year\\W25 - ECE C147\\New folder\\emg2qwerty_C147_FinalProject\\emg2qwerty\\logs\\2025-03-03\\16-53-09\\submitit_logs\\345652\\345652_0_result.pkl\n",
            "has not produced any output (state: FINISHED)\n",
            "No output/error stream produced ! Check: c:\\Users\\asmi_\\Asmi's Documents\\Academics\\2022-26_UCLA\\2024-25_Junior Year\\W25 - ECE C147\\New folder\\emg2qwerty_C147_FinalProject\\emg2qwerty\\logs\\2025-03-03\\16-53-09\\submitit_logs\\345652\\345652_0_log.out\n"
          ]
        }
      ],
      "source": [
        "# Single-user training\n",
        "!python -m emg2qwerty.train \\\n",
        "  user=\"single_user\" \\\n",
        "  trainer.accelerator=cpu trainer.devices=1 \\\n",
        "  --multirun"
      ]
    },
    {
      "cell_type": "markdown",
      "metadata": {
        "id": "MGANotiwhngl"
      },
      "source": [
        "#### Testing:\n",
        "\n",
        "- Replace `Your_Path_to_Checkpoint` with your checkpoint path."
      ]
    },
    {
      "cell_type": "code",
      "execution_count": null,
      "metadata": {
        "id": "p68aDt-8pmGj"
      },
      "outputs": [],
      "source": [
        "# Single-user testing\n",
        "!python -m emg2qwerty.train \\\n",
        "  user=\"single_user\" \\\n",
        "  checkpoint=\"Your_Path_to_Checkpoint\" \\\n",
        "  train=False trainer.accelerator=gpu \\\n",
        "  decoder=ctc_greedy \\\n",
        "  hydra.launcher.mem_gb=64 \\\n",
        "  # --multirun"
      ]
    }
  ],
  "metadata": {
    "accelerator": "GPU",
    "colab": {
      "gpuType": "T4",
      "provenance": []
    },
    "kernelspec": {
      "display_name": "venv",
      "language": "python",
      "name": "python3"
    },
    "language_info": {
      "codemirror_mode": {
        "name": "ipython",
        "version": 3
      },
      "file_extension": ".py",
      "mimetype": "text/x-python",
      "name": "python",
      "nbconvert_exporter": "python",
      "pygments_lexer": "ipython3",
      "version": "3.11.9"
    }
  },
  "nbformat": 4,
  "nbformat_minor": 0
}
